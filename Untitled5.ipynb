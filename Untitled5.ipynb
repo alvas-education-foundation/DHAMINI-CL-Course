{
  "nbformat": 4,
  "nbformat_minor": 0,
  "metadata": {
    "colab": {
      "name": "Untitled5.ipynb",
      "provenance": [],
      "authorship_tag": "ABX9TyOXoWmiHm4NCqBYYbfvswUZ",
      "include_colab_link": true
    },
    "kernelspec": {
      "name": "python3",
      "display_name": "Python 3"
    }
  },
  "cells": [
    {
      "cell_type": "markdown",
      "metadata": {
        "id": "view-in-github",
        "colab_type": "text"
      },
      "source": [
        "<a href=\"https://colab.research.google.com/github/alvas-education-foundation/DHAMINI-CL-Course/blob/master/Untitled5.ipynb\" target=\"_parent\"><img src=\"https://colab.research.google.com/assets/colab-badge.svg\" alt=\"Open In Colab\"/></a>"
      ]
    },
    {
      "cell_type": "code",
      "metadata": {
        "id": "TzKcg4yP6Fhm",
        "colab_type": "code",
        "colab": {
          "base_uri": "https://localhost:8080/",
          "height": 34
        },
        "outputId": "a8a9ac0e-712a-45a0-df4b-66c531b933c4"
      },
      "source": [
        "a=2\n",
        "b=\"hi\"\n",
        "c=str(a)+b\n",
        "print(c)"
      ],
      "execution_count": 2,
      "outputs": [
        {
          "output_type": "stream",
          "text": [
            "2hi\n"
          ],
          "name": "stdout"
        }
      ]
    },
    {
      "cell_type": "code",
      "metadata": {
        "id": "k0l2ZiayEq5j",
        "colab_type": "code",
        "colab": {
          "base_uri": "https://localhost:8080/",
          "height": 34
        },
        "outputId": "6dda6bad-abd4-4dcb-b55e-64005854dab2"
      },
      "source": [
        "a=2\n",
        "b=\"hi\"\n",
        "c=(a)+len(b)\n",
        "print(c)"
      ],
      "execution_count": 16,
      "outputs": [
        {
          "output_type": "stream",
          "text": [
            "4\n"
          ],
          "name": "stdout"
        }
      ]
    },
    {
      "cell_type": "code",
      "metadata": {
        "id": "H3wB-alJFHhY",
        "colab_type": "code",
        "colab": {}
      },
      "source": [
        ""
      ],
      "execution_count": null,
      "outputs": []
    },
    {
      "cell_type": "code",
      "metadata": {
        "id": "rn9xBCL5-W23",
        "colab_type": "code",
        "colab": {
          "base_uri": "https://localhost:8080/",
          "height": 34
        },
        "outputId": "3b6a6c4c-6cd7-49c9-95ae-1966d3808e31"
      },
      "source": [
        "\n",
        "def great2(x,y):\n",
        "  if (x>y):\n",
        "    return x\n",
        "  else:\n",
        "    return y\n",
        "great2(4,5)\n"
      ],
      "execution_count": 10,
      "outputs": [
        {
          "output_type": "execute_result",
          "data": {
            "text/plain": [
              "5"
            ]
          },
          "metadata": {
            "tags": []
          },
          "execution_count": 10
        }
      ]
    },
    {
      "cell_type": "code",
      "metadata": {
        "id": "9DOX1czCBAEh",
        "colab_type": "code",
        "colab": {
          "base_uri": "https://localhost:8080/",
          "height": 68
        },
        "outputId": "f2b3af85-305b-473d-823d-9bb96f95411b"
      },
      "source": [
        "num1=int(input(\"enter the no\"))\n",
        "num2=int(input(\"enter the no\"))\n",
        "\n",
        "sum= num1+num2\n",
        "print('the sum of {0} and{1}is {2}'.format(num1,num2,sum))"
      ],
      "execution_count": 14,
      "outputs": [
        {
          "output_type": "stream",
          "text": [
            "enter the no6\n",
            "enter the no7\n",
            "the sum of 6 and7is 13\n"
          ],
          "name": "stdout"
        }
      ]
    },
    {
      "cell_type": "code",
      "metadata": {
        "id": "WXNLhOu_FIrw",
        "colab_type": "code",
        "colab": {
          "base_uri": "https://localhost:8080/",
          "height": 51
        },
        "outputId": "a55dd485-3b3e-419e-dee1-334973bcef53"
      },
      "source": [
        "year=int(input(\"enter the yr\"))\n",
        "if((year % 400)==0):\n",
        "  print(\"{0}is a leap year\".format(year))\n",
        "else:\n",
        "  print(\"{0}is not a leap year\".format(year))"
      ],
      "execution_count": 22,
      "outputs": [
        {
          "output_type": "stream",
          "text": [
            "enter the yr1999\n",
            "1999is not a leap year\n"
          ],
          "name": "stdout"
        }
      ]
    }
  ]
}