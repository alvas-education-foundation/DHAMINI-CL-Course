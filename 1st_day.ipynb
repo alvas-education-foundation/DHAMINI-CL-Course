{
  "nbformat": 4,
  "nbformat_minor": 0,
  "metadata": {
    "colab": {
      "name": "1st day",
      "provenance": [],
      "authorship_tag": "ABX9TyMUAt4rEY0ELt4nb38SXbrX",
      "include_colab_link": true
    },
    "kernelspec": {
      "name": "python3",
      "display_name": "Python 3"
    }
  },
  "cells": [
    {
      "cell_type": "markdown",
      "metadata": {
        "id": "view-in-github",
        "colab_type": "text"
      },
      "source": [
        "<a href=\"https://colab.research.google.com/github/alvas-education-foundation/DHAMINI-CL-Course/blob/master/1st_day.ipynb\" target=\"_parent\"><img src=\"https://colab.research.google.com/assets/colab-badge.svg\" alt=\"Open In Colab\"/></a>"
      ]
    },
    {
      "cell_type": "code",
      "metadata": {
        "id": "wtAbuS5lzwCT",
        "colab_type": "code",
        "colab": {
          "base_uri": "https://localhost:8080/",
          "height": 85
        },
        "outputId": "f54d74df-de04-46c9-9753-5951a8af2ad2"
      },
      "source": [
        "p=int(input(\"enter the value of p\"))\n",
        "n=int(input(\"enter the value of n\"))\n",
        "r=int(input(\"enter the value of r\"))\n",
        "f=(p*(1+n)*(r/100))\n",
        "print(f)"
      ],
      "execution_count": 6,
      "outputs": [
        {
          "output_type": "stream",
          "text": [
            "enter the value of p5\n",
            "enter the value of n6\n",
            "enter the value of r7\n",
            "2.45\n"
          ],
          "name": "stdout"
        }
      ]
    },
    {
      "cell_type": "code",
      "metadata": {
        "id": "juq2XtLL1HNp",
        "colab_type": "code",
        "colab": {
          "base_uri": "https://localhost:8080/",
          "height": 51
        },
        "outputId": "c639cd71-405e-446c-af29-f0f5681df924"
      },
      "source": [
        "c=int(input(\"enter the value of c\"))\n",
        "f=(9/5)*c+32\n",
        "print(f)"
      ],
      "execution_count": 7,
      "outputs": [
        {
          "output_type": "stream",
          "text": [
            "enter the value of c676\n",
            "1248.8\n"
          ],
          "name": "stdout"
        }
      ]
    },
    {
      "cell_type": "code",
      "metadata": {
        "id": "6WTp0vdK1bxY",
        "colab_type": "code",
        "colab": {
          "base_uri": "https://localhost:8080/",
          "height": 68
        },
        "outputId": "775b158c-0584-46f2-922d-4c4326b67281"
      },
      "source": [
        "a=int(input(\"enter the value of a\"))\n",
        "b=int(input(\"enter the value of b\"))\n",
        "if (a>b):\n",
        "  print(\"a is greater\")\n",
        "else:\n",
        "  print(\"b is greater\")"
      ],
      "execution_count": 8,
      "outputs": [
        {
          "output_type": "stream",
          "text": [
            "enter the value of a3\n",
            "enter the value of b5\n",
            "b is greater\n"
          ],
          "name": "stdout"
        }
      ]
    },
    {
      "cell_type": "code",
      "metadata": {
        "id": "sjctRhZk2GrN",
        "colab_type": "code",
        "colab": {
          "base_uri": "https://localhost:8080/",
          "height": 85
        },
        "outputId": "110e92a1-b79d-4978-877d-d868865fa908"
      },
      "source": [
        "pi=3.14\n",
        "r=int(input(\"enter the value of r\"))\n",
        "h=int(input(\"enter the value of h\"))\n",
        "a=2*pi*r*r*h\n",
        "c=1/3*pi*r*r*h\n",
        "print(a)\n",
        "print(c)\n"
      ],
      "execution_count": 9,
      "outputs": [
        {
          "output_type": "stream",
          "text": [
            "enter the value of r3\n",
            "enter the value of h6\n",
            "339.12\n",
            "56.51999999999999\n"
          ],
          "name": "stdout"
        }
      ]
    },
    {
      "cell_type": "code",
      "metadata": {
        "id": "qzhWklwd3G5K",
        "colab_type": "code",
        "colab": {
          "base_uri": "https://localhost:8080/",
          "height": 34
        },
        "outputId": "6943af4d-16ff-4f2c-d267-0a5eeb781360"
      },
      "source": [
        "def greater(a,b,c,d):\n",
        "  if (a>b)&(a>c)&(a>d):\n",
        "    print(\"a is greater\")\n",
        "  elif (b>a)&(b>c)&(b>d):\n",
        "    print(\"b is greater\")\n",
        "  elif (c>a)&(c>b)&(c>d):\n",
        "    print(\"c is greater\")\n",
        "  else:\n",
        "    print(\"d is greater\")\n",
        "greater(2,3,4,5)"
      ],
      "execution_count": 10,
      "outputs": [
        {
          "output_type": "stream",
          "text": [
            "d is greater\n"
          ],
          "name": "stdout"
        }
      ]
    },
    {
      "cell_type": "code",
      "metadata": {
        "id": "SkYCaCjt5Wta",
        "colab_type": "code",
        "colab": {
          "base_uri": "https://localhost:8080/",
          "height": 51
        },
        "outputId": "2fba80d0-dc79-4190-cd7d-16b7b7fec3e6"
      },
      "source": [
        "def oddoreven(x,y):\n",
        "  if (x%2)&&(y%2)==0:\n",
        "    print(\"x is even\")\n",
        " \n",
        "  else:\n",
        "    print(\"its odd\")\n",
        "oddoreven(2,7)\n",
        "def oddoreven(x,y):\n",
        "  if (y%2)==0:\n",
        "    print(\"y is even\")\n",
        "  else:\n",
        "    print(\"its odd\")\n",
        "oddoreven(3,5)\n",
        " "
      ],
      "execution_count": 18,
      "outputs": [
        {
          "output_type": "stream",
          "text": [
            "x is even\n",
            "its odd\n"
          ],
          "name": "stdout"
        }
      ]
    }
  ]
}